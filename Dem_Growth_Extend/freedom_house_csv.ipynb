{
 "cells": [
  {
   "cell_type": "code",
   "execution_count": 1,
   "metadata": {},
   "outputs": [],
   "source": [
    "import pandas as pd\n",
    "import numpy as np"
   ]
  },
  {
   "cell_type": "code",
   "execution_count": 2,
   "metadata": {},
   "outputs": [],
   "source": [
    "# Contains ambiguous years from 1981-1989\n",
    "df = pd.read_excel(\"data/in/Country_and_Territory_Ratings_and_Statuses_FIW_1973-2022 .xlsx\", sheet_name = \"Country Ratings, Statuses \", skiprows = 3, header = None)\n",
    "# Keep from 1990+\n",
    "END_YEAR = 2021\n",
    "end = df.columns[-1]\n",
    "i90 = df.columns[-(END_YEAR-1990+1)*3]\n",
    "df = df[[0]+list(df.columns[i90:])]"
   ]
  },
  {
   "cell_type": "code",
   "execution_count": 3,
   "metadata": {},
   "outputs": [],
   "source": [
    "country = np.repeat(list(df[0]), END_YEAR-1990+1)\n",
    "year = np.array([np.arange(1990,END_YEAR+1) for _ in range(len(df))]).flatten()\n",
    "rating = np.array(df[np.arange(i90+2,end+1,3)]).flatten()\n",
    "out = pd.DataFrame({\"country\":country, \"year\":year, \"rating\":rating})\n",
    "out.to_csv(\"data/in/fh_1990_\"+str(END_YEAR)+\".csv\", index = False)"
   ]
  },
  {
   "cell_type": "code",
   "execution_count": null,
   "metadata": {},
   "outputs": [],
   "source": []
  }
 ],
 "metadata": {
  "kernelspec": {
   "display_name": "Python 3 (ipykernel)",
   "language": "python",
   "name": "python3"
  },
  "language_info": {
   "codemirror_mode": {
    "name": "ipython",
    "version": 3
   },
   "file_extension": ".py",
   "mimetype": "text/x-python",
   "name": "python",
   "nbconvert_exporter": "python",
   "pygments_lexer": "ipython3",
   "version": "3.9.13"
  }
 },
 "nbformat": 4,
 "nbformat_minor": 4
}
