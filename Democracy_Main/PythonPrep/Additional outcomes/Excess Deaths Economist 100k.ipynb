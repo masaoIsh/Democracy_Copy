{
 "cells": [
  {
   "cell_type": "code",
   "execution_count": 1,
   "id": "aaa286d1",
   "metadata": {},
   "outputs": [],
   "source": [
    "import pandas as pd\n",
    "import numpy as np\n",
    "import openpyxl\n",
    "\n",
    "import warnings\n",
    "warnings.filterwarnings(\"ignore\")\n",
    "\n",
    "import sys\n",
    "import os\n",
    "\n",
    "# Get the directory where this notebook is located\n",
    "notebook_dir = os.path.dirname(os.path.abspath(''))\n",
    "\n",
    "# Add the PythonPrep directory to the path\n",
    "pythonprep_dir = os.path.join(os.path.dirname(notebook_dir), 'PythonPrep') if 'PythonPrep' not in notebook_dir else notebook_dir\n",
    "sys.path.append(pythonprep_dir)\n",
    "\n",
    "from paths import main_path"
   ]
  },
  {
   "cell_type": "code",
   "execution_count": 6,
   "id": "6471fcad",
   "metadata": {},
   "outputs": [
    {
     "name": "stdout",
     "output_type": "stream",
     "text": [
      "           country  excess_mortality_rate_100k\n",
      "0         Bulgaria                  363.855800\n",
      "1           Russia                  316.301767\n",
      "2           Serbia                  306.731667\n",
      "3        Lithuania                  306.558567\n",
      "4  North Macedonia                  278.824633\n"
     ]
    }
   ],
   "source": [
    "# ------------------------------------------------------------------\n",
    "# Load and tidy the raw data\n",
    "# ------------------------------------------------------------------\n",
    "file_path = main_path + \"/Democracy/PythonData/excess-deaths-cumulative-per-100k.csv\"\n",
    "df = (\n",
    "    pd.read_csv(file_path, usecols=[\"Entity\", \"Day\",\n",
    "                                    \"Cumulative excess deaths per 100,000 people (central estimate)\"])\n",
    "      .rename(columns={\"Entity\": \"country\"})\n",
    ")\n",
    "\n",
    "# Make sure Day is datetime\n",
    "df[\"Day\"] = pd.to_datetime(df[\"Day\"])\n",
    "\n",
    "# ------------------------------------------------------------------\n",
    "# Convert cumulative to daily series\n",
    "# ------------------------------------------------------------------\n",
    "df[\"excess_mortality_daily_100k\"] = (\n",
    "    df.groupby(\"country\")[\"Cumulative excess deaths per 100,000 people (central estimate)\"]\n",
    "      .diff()                                   # day-to-day change\n",
    "      .fillna(                                  # first obs. in each group\n",
    "          df[\"Cumulative excess deaths per 100,000 people (central estimate)\"]\n",
    "      )\n",
    ")\n",
    "\n",
    "# ------------------------------------------------------------------\n",
    "# Aggregate to yearly totals and take the 2020-22 mean\n",
    "# ------------------------------------------------------------------\n",
    "df[\"Year\"] = df[\"Day\"].dt.year\n",
    "\n",
    "df_yearly = (\n",
    "    df.groupby([\"country\", \"Year\"], as_index=False)[\"excess_mortality_daily_100k\"]\n",
    "      .sum()\n",
    ")\n",
    "\n",
    "# Keep only 2020-2022 and take the mean across those three years\n",
    "df1 = (\n",
    "    df_yearly[df_yearly[\"Year\"].between(2020, 2022)]\n",
    "      .groupby(\"country\", as_index=False)[\"excess_mortality_daily_100k\"]\n",
    "      .mean()\n",
    "      .rename(columns={\"excess_mortality_daily_100k\": \"excess_mortality_rate_100k\"})\n",
    "      .sort_values(\"excess_mortality_rate_100k\", ascending=False)\n",
    "      .reset_index(drop=True)\n",
    ")\n",
    "\n",
    "# df1 now has the desired result\n",
    "print(df1.head())"
   ]
  },
  {
   "cell_type": "code",
   "execution_count": 7,
   "id": "9a1abea5",
   "metadata": {},
   "outputs": [
    {
     "data": {
      "text/plain": [
       "187"
      ]
     },
     "execution_count": 7,
     "metadata": {},
     "output_type": "execute_result"
    }
   ],
   "source": [
    "countries_only = ['Afghanistan', 'Albania', 'Algeria', 'Andorra', 'Angola', 'Antigua and Barbuda', 'Argentina',\n",
    "                  'Armenia', 'Australia', 'Austria', 'Azerbaijan', 'Bahamas', 'Bahrain', 'Bangladesh', 'Barbados',\n",
    "                  'Belarus', 'Belgium', 'Belize', 'Benin', 'Bhutan', 'Bolivia', 'Bosnia and Herzegovina', 'Botswana',\n",
    "                  'Brazil', 'Brunei', 'Bulgaria', 'Burkina Faso', 'Burundi', 'Cambodia', 'Cameroon', 'Canada',\n",
    "                  'Cape Verde', 'Chile', 'China', 'Colombia', 'Comoros', 'Congo', 'Costa Rica', \"Cote d'Ivoire\",\n",
    "                  'Croatia', 'Cuba', 'Cyprus', 'Czechia', 'Denmark', 'Djibouti', 'Dominica', 'Dominican Republic',\n",
    "                  'East Timor', 'Ecuador', 'Egypt', 'El Salvador', 'Equatorial Guinea', 'Eritrea', 'Estonia',\n",
    "                  'Eswatini', 'Ethiopia', 'Fiji', 'Finland', 'France', 'Gabon', 'Gambia', 'Georgia', 'Germany', 'Ghana',\n",
    "                  'Greece', 'Grenada', 'Guatemala', 'Guinea', 'Guinea-Bissau', 'Guyana', 'Haiti', 'Honduras', 'Hungary',\n",
    "                  'Iceland', 'India', 'Indonesia', 'Iran', 'Iraq', 'Ireland', 'Israel', 'Italy', 'Jamaica', 'Japan',\n",
    "                  'Jordan', 'Kazakhstan', 'Kenya', 'Kiribati', 'Kosovo', 'Kuwait', 'Kyrgyzstan', 'Laos', 'Latvia',\n",
    "                  'Lebanon', 'Lesotho', 'Liberia', 'Libya', 'Liechtenstein', 'Lithuania', 'Luxembourg', 'Madagascar',\n",
    "                  'Malawi', 'Malaysia', 'Maldives', 'Mali', 'Malta', 'Mauritania', 'Mauritius', 'Mexico', 'Moldova',\n",
    "                  'Monaco', 'Mongolia', 'Montenegro', 'Morocco', 'Mozambique', 'Myanmar', 'Namibia', 'Nepal',\n",
    "                  'Netherlands', 'New Zealand', 'Nicaragua', 'Niger', 'Nigeria', 'North Macedonia', 'Norway', 'Oman',\n",
    "                  'Pakistan', 'Palestine', 'Panama', 'Papua New Guinea', 'Paraguay', 'Peru', 'Philippines', 'Poland',\n",
    "                  'Portugal', 'Qatar', 'Romania', 'Russia', 'Rwanda', 'Saint Kitts and Nevis', 'Saint Lucia',\n",
    "                  'Saint Vincent and the Grenadines', 'Samoa', 'San Marino', 'Sao Tome and Principe', 'Saudi Arabia',\n",
    "                  'Senegal', 'Serbia', 'Seychelles', 'Sierra Leone', 'Singapore', 'Slovakia', 'Slovenia', 'Solomon Islands',\n",
    "                  'Somalia', 'South Africa', 'South Korea', 'South Sudan', 'Spain', 'Sri Lanka', 'Sudan', 'Suriname',\n",
    "                  'Sweden', 'Switzerland', 'Syria', 'Taiwan', 'Tajikistan', 'Tanzania', 'Thailand', 'Togo', 'Tonga',\n",
    "                  'Trinidad and Tobago', 'Tunisia', 'Turkey', 'Turkmenistan', 'Uganda', 'Ukraine', 'United Arab Emirates',\n",
    "                  'United Kingdom', 'United States', 'Uruguay', 'Uzbekistan', 'Vanuatu', 'Venezuela', 'Vietnam', 'Yemen',\n",
    "                  'Zambia', 'Zimbabwe']\n",
    "len(countries_only)"
   ]
  },
  {
   "cell_type": "code",
   "execution_count": 8,
   "id": "40cdfd23",
   "metadata": {},
   "outputs": [
    {
     "data": {
      "text/plain": [
       "86.41256396005625"
      ]
     },
     "execution_count": 8,
     "metadata": {},
     "output_type": "execute_result"
    }
   ],
   "source": [
    "df1.excess_mortality_rate_100k.mean()"
   ]
  },
  {
   "cell_type": "code",
   "execution_count": null,
   "id": "84a14ee6",
   "metadata": {},
   "outputs": [],
   "source": [
    "df1.to_csv(main_path + '/Democracy/Democracy_Main/MainAnalysis/input/outcomes/old_outcomes/excess_deaths_who.csv', index=False)\n",
    "\n"
   ]
  },
  {
   "cell_type": "code",
   "execution_count": null,
   "id": "4f18e98c",
   "metadata": {},
   "outputs": [],
   "source": []
  },
  {
   "cell_type": "code",
   "execution_count": null,
   "id": "4f1bb757",
   "metadata": {},
   "outputs": [],
   "source": []
  },
  {
   "cell_type": "code",
   "execution_count": null,
   "id": "44d26ffa",
   "metadata": {},
   "outputs": [],
   "source": []
  }
 ],
 "metadata": {
  "kernelspec": {
   "display_name": "Python 3",
   "language": "python",
   "name": "python3"
  },
  "language_info": {
   "codemirror_mode": {
    "name": "ipython",
    "version": 3
   },
   "file_extension": ".py",
   "mimetype": "text/x-python",
   "name": "python",
   "nbconvert_exporter": "python",
   "pygments_lexer": "ipython3",
   "version": "3.12.0"
  }
 },
 "nbformat": 4,
 "nbformat_minor": 5
}
